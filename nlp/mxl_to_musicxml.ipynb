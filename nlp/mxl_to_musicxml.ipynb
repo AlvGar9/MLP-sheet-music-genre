{
 "cells": [
  {
   "cell_type": "code",
   "execution_count": null,
   "metadata": {},
   "outputs": [
    {
     "name": "stdout",
     "output_type": "stream",
     "text": [
      "Converted '../data/mxl/0/0/Qma1mBKiLT1vyXJUvd8yz6ZzysLLWmaCwzX5Tr8FTseZbe.mxl' to '../data/mxl/0/0/Qma1mBKiLT1vyXJUvd8yz6ZzysLLWmaCwzX5Tr8FTseZbe.musicxml'\n"
     ]
    }
   ],
   "source": [
    "import os\n",
    "from music21 import converter\n",
    "\n",
    "def convert_mxl_to_musicxml(mxl_path, output_path=None):\n",
    "    \"\"\"\n",
    "    Convert a compressed MXL file to a MusicXML file.\n",
    "    \n",
    "    Args:\n",
    "        mxl_path (str): Path to the input .mxl file.\n",
    "        output_path (str, optional): Path to the output MusicXML file.\n",
    "            If not provided, the output file will be saved in the same directory\n",
    "            with the same base name and a .musicxml extension.\n",
    "    \n",
    "    Returns:\n",
    "        str: The path to the generated MusicXML file.\n",
    "    \"\"\"\n",
    "    # Parse the MXL file using music21\n",
    "    score = converter.parse(mxl_path)\n",
    "    \n",
    "    # Determine output path if not provided\n",
    "    if output_path is None:\n",
    "        base, _ = os.path.splitext(mxl_path)\n",
    "        output_path = base + \".musicxml\"\n",
    "    \n",
    "    # Write the score as a MusicXML file\n",
    "    score.write(fmt='musicxml', fp=output_path)\n",
    "    print(f\"Converted '{mxl_path}' to '{output_path}'\")\n",
    "    return output_path\n",
    "\n"
   ]
  },
  {
   "cell_type": "code",
   "execution_count": null,
   "metadata": {},
   "outputs": [],
   "source": [
    "# Example usage:\n",
    "if __name__ == \"__main__\":\n",
    "    mxl_file = \"../data/mxl/0/0/Qma1mBKiLT1vyXJUvd8yz6ZzysLLWmaCwzX5Tr8FTseZbe.mxl\"  # Change to your actual file path\n",
    "    convert_mxl_to_musicxml(mxl_file)"
   ]
  }
 ],
 "metadata": {
  "kernelspec": {
   "display_name": "Python 3",
   "language": "python",
   "name": "python3"
  },
  "language_info": {
   "codemirror_mode": {
    "name": "ipython",
    "version": 3
   },
   "file_extension": ".py",
   "mimetype": "text/x-python",
   "name": "python",
   "nbconvert_exporter": "python",
   "pygments_lexer": "ipython3",
   "version": "3.12.0"
  }
 },
 "nbformat": 4,
 "nbformat_minor": 4
}
